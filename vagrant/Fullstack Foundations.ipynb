{
 "cells": [
  {
   "cell_type": "code",
   "execution_count": 1,
   "metadata": {},
   "outputs": [],
   "source": [
    "from sqlalchemy import create_engine\n",
    "from sqlalchemy.orm import sessionmaker\n",
    "from database_setup import Base, Restaurant, MenuItem\n",
    "engine = create_engine('sqlite:///restaurantmenu.db')\n",
    "Base.metadata.bind = engine\n",
    "DBSession = sessionmaker(bind = engine)\n",
    "session = DBSession()"
   ]
  },
  {
   "cell_type": "code",
   "execution_count": 2,
   "metadata": {},
   "outputs": [],
   "source": [
    "#CREATING\n",
    "myFirstRestaurant = Restaurant(name = \"Pizza Palace\")\n",
    "session.add(myFirstRestaurant)\n",
    "session.commit()"
   ]
  },
  {
   "cell_type": "code",
   "execution_count": 3,
   "metadata": {},
   "outputs": [],
   "source": [
    "cheesepizza = MenuItem(name = \"Cheese pizza\", \n",
    "                       description = \"Made with all natural ingredients and fresh mozarella\", \n",
    "                       course = \"Entree\", price = \"$8.99\", restaurant = myFirstRestaurant)\n",
    "session.add(cheesepizza)\n",
    "session.commit()"
   ]
  },
  {
   "cell_type": "code",
   "execution_count": 16,
   "metadata": {},
   "outputs": [
    {
     "name": "stdout",
     "output_type": "stream",
     "text": [
      "Cheese pizza\n",
      "Veggie Burger\n",
      "French Fries\n",
      "Chicken Burger\n",
      "Chocolate Cake\n",
      "Sirloin Burger\n",
      "Root Beer\n",
      "Iced Tea\n",
      "Grilled Cheese Sandwich\n",
      "Veggie Burger\n",
      "Chicken Stir Fry\n",
      "Peking Duck\n",
      "Spicy Tuna Roll\n",
      "Nepali Momo \n",
      "Beef Noodle Soup\n",
      "Ramen\n",
      "Pho\n",
      "Chinese Dumplings\n",
      "Gyoza\n",
      "Stinky Tofu\n",
      "Veggie Burger\n",
      "Tres Leches Cake\n",
      "Mushroom risotto\n",
      "Honey Boba Shaved Snow\n",
      "Cauliflower Manchurian\n",
      "Aloo Gobi Burrito\n",
      "Veggie Burger\n",
      "Shellfish Tower\n",
      "Chicken and Rice\n",
      "Mom's Spaghetti\n",
      "Choc Full O' Mint (Smitten's Fresh Mint Chip ice cream)\n",
      "Tonkatsu Ramen\n",
      "Lamb Curry\n",
      "Chicken Marsala\n",
      "Potstickers\n",
      "Nigiri Sampler\n",
      "Veggie Burger\n",
      "Chicken Fried Steak\n",
      "Boysenberry Sorbet\n",
      "Broiled salmon\n",
      "Morels on toast (seasonal)\n",
      "Tandoori Chicken\n",
      "Veggie Burger\n",
      "Spinach Ice Cream\n",
      "Super Burrito Al Pastor\n",
      "Cachapa\n",
      "Chantrelle Toast\n",
      "Guanciale Chawanmushi\n",
      "Lemon Curd Ice Cream Sandwich\n"
     ]
    }
   ],
   "source": [
    "session.query(MenuItem).all()\n",
    "items = session.query(MenuItem).all()\n",
    "for i in items:\n",
    "    print(i.name)"
   ]
  },
  {
   "cell_type": "code",
   "execution_count": 15,
   "metadata": {},
   "outputs": [
    {
     "name": "stdout",
     "output_type": "stream",
     "text": [
      "Pizza Palace\n",
      "Urban Burger\n",
      "Super Stir Fry\n",
      "Panda Garden\n",
      "Thyme for That Vegetarian Cuisine \n",
      "Tony's Bistro \n",
      "Andala's\n",
      "Auntie Ann's Diner' \n",
      "Cocina Y Amor \n",
      "State Bird Provisions\n"
     ]
    }
   ],
   "source": [
    "#session.query(Restaurant).first().name\n",
    "restaurants = session.query(Restaurant).all()\n",
    "for i in restaurants:\n",
    "    print(i.name)"
   ]
  },
  {
   "cell_type": "code",
   "execution_count": 27,
   "metadata": {},
   "outputs": [
    {
     "name": "stdout",
     "output_type": "stream",
     "text": [
      "2\n",
      "Veggie Burger\n",
      "$2.99\n",
      "Urban Burger\n",
      "10\n",
      "Veggie Burger\n",
      "$2.99\n",
      "Urban Burger\n",
      "21\n",
      "Veggie Burger\n",
      "$2.99\n",
      "Panda Garden\n",
      "27\n",
      "Veggie Burger\n",
      "$2.99\n",
      "Thyme for That Vegetarian Cuisine \n",
      "37\n",
      "Veggie Burger\n",
      "$2.99\n",
      "Andala's\n",
      "43\n",
      "Veggie Burger\n",
      "$2.99\n",
      "Auntie Ann's Diner' \n"
     ]
    }
   ],
   "source": [
    "veggieBurgers = session.query(MenuItem).filter_by(name = 'Veggie Burger')\n",
    "for i in veggieBurgers:\n",
    "    print(i.id)\n",
    "    print(i.name)\n",
    "    print(i.price)\n",
    "    print(i.restaurant.name)"
   ]
  },
  {
   "cell_type": "code",
   "execution_count": 28,
   "metadata": {},
   "outputs": [
    {
     "name": "stdout",
     "output_type": "stream",
     "text": [
      "$6.99\n"
     ]
    }
   ],
   "source": [
    "#UPDATING\n",
    "\n",
    "Urbanvb = session.query(MenuItem).filter_by(id = 2).one()\n",
    "#print(Urbanvb.price)\n",
    "Urbanvb.price = '$6.99'\n",
    "session.add(Urbanvb)\n",
    "session.commit()\n",
    "Urbanvb = session.query(MenuItem).filter_by(id = 2).one()\n",
    "#print(Urbanvb.price)\n",
    "for i in veggieBurgers:\n",
    "    if i.price != '$2.99':\n",
    "        i.price = '$2.99'\n",
    "        session.add(i)\n",
    "        session.commit()"
   ]
  },
  {
   "cell_type": "code",
   "execution_count": null,
   "metadata": {},
   "outputs": [],
   "source": [
    "#DELETING\n",
    "spinach = session.query(MenuItem).filter_by(name = 'Spinach Ice Cream').one()\n",
    "#print (spinach.restaurant.name)\n",
    "session.delete(spinach)\n",
    "session.commit()"
   ]
  },
  {
   "cell_type": "code",
   "execution_count": null,
   "metadata": {},
   "outputs": [],
   "source": [
    "#LESSON 2"
   ]
  },
  {
   "cell_type": "code",
   "execution_count": null,
   "metadata": {},
   "outputs": [],
   "source": []
  }
 ],
 "metadata": {
  "kernelspec": {
   "display_name": "Python 3",
   "language": "python",
   "name": "python3"
  },
  "language_info": {
   "codemirror_mode": {
    "name": "ipython",
    "version": 3
   },
   "file_extension": ".py",
   "mimetype": "text/x-python",
   "name": "python",
   "nbconvert_exporter": "python",
   "pygments_lexer": "ipython3",
   "version": "3.8.5"
  }
 },
 "nbformat": 4,
 "nbformat_minor": 4
}
